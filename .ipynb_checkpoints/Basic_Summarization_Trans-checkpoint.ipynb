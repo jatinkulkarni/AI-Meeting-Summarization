{
 "cells": [
  {
   "cell_type": "markdown",
   "metadata": {},
   "source": [
    "# Basic Summarization through Transformers"
   ]
  },
  {
   "cell_type": "code",
   "execution_count": 8,
   "metadata": {},
   "outputs": [],
   "source": [
    "from transformers import pipeline\n",
    "import os"
   ]
  },
  {
   "cell_type": "code",
   "execution_count": 9,
   "metadata": {},
   "outputs": [],
   "source": [
    "os.environ[\"CUDA_VISIBLE_DEVICES\"] = \"0\""
   ]
  },
  {
   "cell_type": "code",
   "execution_count": 10,
   "metadata": {},
   "outputs": [
    {
     "data": {
      "application/vnd.jupyter.widget-view+json": {
       "model_id": "2639127819564e83982cfe8e99432ded",
       "version_major": 2,
       "version_minor": 0
      },
      "text/plain": [
       "HBox(children=(FloatProgress(value=0.0, description='Downloading', max=1649.0, style=ProgressStyle(description…"
      ]
     },
     "metadata": {},
     "output_type": "display_data"
    },
    {
     "name": "stdout",
     "output_type": "stream",
     "text": [
      "\n"
     ]
    },
    {
     "data": {
      "application/vnd.jupyter.widget-view+json": {
       "model_id": "2ef3ac0d4f1b49dea86ad610fef3c4d2",
       "version_major": 2,
       "version_minor": 0
      },
      "text/plain": [
       "HBox(children=(FloatProgress(value=0.0, description='Downloading', max=1222317369.0, style=ProgressStyle(descr…"
      ]
     },
     "metadata": {},
     "output_type": "display_data"
    },
    {
     "name": "stdout",
     "output_type": "stream",
     "text": [
      "\n"
     ]
    },
    {
     "data": {
      "application/vnd.jupyter.widget-view+json": {
       "model_id": "75b02df11376454cb63f572badea9a08",
       "version_major": 2,
       "version_minor": 0
      },
      "text/plain": [
       "HBox(children=(FloatProgress(value=0.0, description='Downloading', max=898822.0, style=ProgressStyle(descripti…"
      ]
     },
     "metadata": {},
     "output_type": "display_data"
    },
    {
     "name": "stdout",
     "output_type": "stream",
     "text": [
      "\n"
     ]
    },
    {
     "data": {
      "application/vnd.jupyter.widget-view+json": {
       "model_id": "cdb1de252fba49c991e820a323c64e2b",
       "version_major": 2,
       "version_minor": 0
      },
      "text/plain": [
       "HBox(children=(FloatProgress(value=0.0, description='Downloading', max=456318.0, style=ProgressStyle(descripti…"
      ]
     },
     "metadata": {},
     "output_type": "display_data"
    },
    {
     "name": "stdout",
     "output_type": "stream",
     "text": [
      "\n"
     ]
    },
    {
     "data": {
      "application/vnd.jupyter.widget-view+json": {
       "model_id": "238db533edb14f05b3f49dd9c2cb176c",
       "version_major": 2,
       "version_minor": 0
      },
      "text/plain": [
       "HBox(children=(FloatProgress(value=0.0, description='Downloading', max=26.0, style=ProgressStyle(description_w…"
      ]
     },
     "metadata": {},
     "output_type": "display_data"
    },
    {
     "name": "stdout",
     "output_type": "stream",
     "text": [
      "\n"
     ]
    }
   ],
   "source": [
    "summarizer = pipeline(\"summarization\")"
   ]
  },
  {
   "cell_type": "code",
   "execution_count": 11,
   "metadata": {},
   "outputs": [
    {
     "data": {
      "application/vnd.jupyter.widget-view+json": {
       "model_id": "d6cd3268960a4427a80464b6cc55bb50",
       "version_major": 2,
       "version_minor": 0
      },
      "text/plain": [
       "HBox(children=(FloatProgress(value=0.0, description='Downloading', max=1199.0, style=ProgressStyle(description…"
      ]
     },
     "metadata": {},
     "output_type": "display_data"
    },
    {
     "name": "stdout",
     "output_type": "stream",
     "text": [
      "\n"
     ]
    },
    {
     "data": {
      "application/vnd.jupyter.widget-view+json": {
       "model_id": "a757f82baf0e42ba9c2689c73f10370c",
       "version_major": 2,
       "version_minor": 0
      },
      "text/plain": [
       "HBox(children=(FloatProgress(value=0.0, description='Downloading', max=791656.0, style=ProgressStyle(descripti…"
      ]
     },
     "metadata": {},
     "output_type": "display_data"
    },
    {
     "name": "stdout",
     "output_type": "stream",
     "text": [
      "\n"
     ]
    },
    {
     "data": {
      "application/vnd.jupyter.widget-view+json": {
       "model_id": "afaaf712f27047ad8ab7971821210fe7",
       "version_major": 2,
       "version_minor": 0
      },
      "text/plain": [
       "HBox(children=(FloatProgress(value=0.0, description='Downloading', max=1389353.0, style=ProgressStyle(descript…"
      ]
     },
     "metadata": {},
     "output_type": "display_data"
    },
    {
     "name": "stdout",
     "output_type": "stream",
     "text": [
      "\n"
     ]
    },
    {
     "data": {
      "application/vnd.jupyter.widget-view+json": {
       "model_id": "c8cfadf6e8ac4d17ad0c7495863e4d0f",
       "version_major": 2,
       "version_minor": 0
      },
      "text/plain": [
       "HBox(children=(FloatProgress(value=0.0, description='Downloading', max=892146080.0, style=ProgressStyle(descri…"
      ]
     },
     "metadata": {},
     "output_type": "display_data"
    },
    {
     "name": "stdout",
     "output_type": "stream",
     "text": [
      "\n"
     ]
    },
    {
     "name": "stderr",
     "output_type": "stream",
     "text": [
      "All model checkpoint layers were used when initializing TFT5ForConditionalGeneration.\n",
      "\n",
      "All the layers of TFT5ForConditionalGeneration were initialized from the model checkpoint at t5-base.\n",
      "If your task is similar to the task the model of the checkpoint was trained on, you can already use TFT5ForConditionalGeneration for predictions without further training.\n"
     ]
    }
   ],
   "source": [
    "summarizer = pipeline(\"summarization\", model=\"t5-base\", tokenizer=\"t5-base\", framework=\"tf\")"
   ]
  },
  {
   "cell_type": "code",
   "execution_count": 12,
   "metadata": {},
   "outputs": [],
   "source": [
    "paragraph = \"\"\"Batman is a superhero who appears in American comic books published by DC Comics. Batman was created by artist Bob Kane and writer Bill Finger, and debuted in the 27th issue of the comic book Detective Comics on March 30, 1939. In the DC Universe continuity, Batman is the alias of Bruce Wayne, a wealthy American playboy, philanthropist, and owner of Wayne Enterprises based in Gotham City. Kane, Finger, and future DC writers accompanied Batman with supporting characters, including his sidekick Robin, allies Alfred Pennyworth, James Gordon and Catwoman, and foes such as the Penguin, the Riddler, the Scarecrow, and his archenemy, the Joker. Batman's origin story features him swearing vengeance against criminals after witnessing the murder of his parents Thomas and Martha; he trains himself physically and intellectually, crafts a bat-inspired persona, and monitors the Gotham streets at night.\n",
    "\n",
    "Kane conceived Batman in early 1939 to capitalize on the popularity of DC's Superman; although Kane frequently claimed sole creation credit, Finger substantially developed the concept from a generic superhero into something more bat-like. The character received his own spin-off publication, Batman, in 1940. Batman was originally introduced as a ruthless vigilante who frequently killed or maimed criminals, but evolved into a character with a stringent moral code and strong sense of justice. Unlike most superheroes, Batman does not possess any superpowers, instead relying on his intellect, fighting skills, and wealth. The 1960s Batman television series used a camp aesthetic, which continued to be associated with the character for years after the show ended. Various creators worked to return the character to his darker roots in the 1970s and 1980s, culminating with the 1986 miniseries The Dark Knight Returns by Frank Miller.\n",
    "\n",
    "DC has featured Batman in many comic books, including comics published under its imprints such as Vertigo and Black Label. The longest-running Batman comic, Detective Comics, is the longest-running comic book in the United States. Batman is frequently depicted alongside other DC superheroes, such as Superman and Wonder Woman, as a member of organizations such as the Justice League and the Outsiders. In addition to Bruce Wayne, other characters have taken on the Batman persona on different occasions, such as Jean-Paul Valley / Azrael in the 1993–1994 \"Knightfall\" story arc and Dick Grayson, the first Robin, for a three-year period from 2009 to 2011. DC has also published comics featuring alternate versions of Batman, including the incarnation seen in The Dark Knight Returns and its successors, the incarnation from the Flashpoint (2011) event, and numerous interpretations from Elseworlds stories.\n",
    "\n",
    "One of the most iconic characters in popular culture, Batman has been listed among the greatest comic book superheroes and fictional characters ever created. He is one of the most commercially successful superheroes, and his likeness has been licensed and featured in various media and merchandise sold around the world; this includes toy lines such as Lego Batman and video games like the Batman: Arkham series. Batman has been adapted in live-action and animated incarnations, including the 1960s Batman television series played by Adam West and in films by Michael Keaton in Batman (1989) and Batman Returns (1992), Christian Bale in The Dark Knight Trilogy (2005–2012), Ben Affleck in the DC Extended Universe (2016–present) and Robert Pattinson in The Batman (2022). Kevin Conroy, Jason O'Mara, and Will Arnett, among others, have provided the character's voice.\"\"\""
   ]
  },
  {
   "cell_type": "code",
   "execution_count": 15,
   "metadata": {},
   "outputs": [
    {
     "name": "stdout",
     "output_type": "stream",
     "text": [
      "Batman debuted in the 27th issue of the comic book Detective Comics on march 30, 1939 . he is the alias of Bruce Wayne, a wealthy american playboy, philanthropist, and owner of Wayne Enterprises . Batman is one of the most commercially successful superheroes ever created .\n"
     ]
    }
   ],
   "source": [
    "summary_text = summarizer(paragraph, max_length=200, min_length=5, do_sample=False)[0]['summary_text']\n",
    "print(summary_text)"
   ]
  },
  {
   "cell_type": "code",
   "execution_count": 16,
   "metadata": {},
   "outputs": [],
   "source": [
    "text = \"\"\"Human-computer interaction has been happening since the first command was introduced into the computer. The language of the interaction is code, which sometimes includes words or even sentences of natural language. But each symbol and word come from a finite list and in allowable combinations. Actually, this describes human-human communication as well, does not it? So what is the difference between how we communicate with the machine, on the one hand, and another human, on the other? Or is there a difference? Or, again, should there be a difference? There is—or was, mostly, in the 1980s—the whole mass of research and trade literature on the much misrepresented Turing test that would ostensibly show whether my unknown interlocutor is human or a machine, and it was all about intelligence. Since then, our notion of intelligence has changed radically with regard to artificial intelligence while our understanding of our own minds, unadvanced significantly either by the revolutionary progress with mapping the human genome or by mapping out the human brain, has not progressed that much.\n",
    "\n",
    "In fact, if asked to think of a human mental functionality that a robot or any computer is not capable of, an educated mature thinker will mention language, culture, humor, and on all of those counts, the situation is not clear. The computer may easily know all the 37,000 or so human diseases, of which I, a hereditary hypochondriac, may barely think of a hundred. It keeps the entire inventory of General Motors automobile parts, in the same number brackets, in its memory, and I, an experienced driver of those cars, can probably list about 30.\n",
    "\n",
    "IBM Watson can defeat human Jeopardy champions, and yet, only the New York Times Tuesday Science section and its multiple trusting readers can believe that the machine is intelligent. So what do I have that IBM Watson does not? I do have an enormous advantage of not running on IBM-produced or procured code, which means that I do not crash that much. Besides, I do carry a large variety of lists, none so huge, but from different spheres of life: people I know and remember, cities I have visited or know about, writers and their books I have read, food I have tasted, and much much more. But my memory of all those lists is flawed and less reliable than that of a computer—I do forget, confuse facts, misremember. Besides, if I am forced to produce a list, it can be immediately entered in the computer.\n",
    "\n",
    "I can also speak, understand, write and read in English, and as a mater of increasingly rare fact, several other languages. The computer can barely do anything with understanding, even though it can output tons of text, for instance, answer my command to print out any text, including creating new ones, e.g., the list of all human diseases. Yes, but I can write a poem! And so can a computer, when programmed to do so!\n",
    "\n",
    "This paper will explore robotic intelligence as a particular kind of AI (Section 2), argue for the use of natural language, with understanding capabilities by non-humans in CHARMS (Section 3), and briefly mention Ontological Semantic Technology as a mature implementation of this approach (Section 4). A semantically innocent roboticist, especially one brainwashed by machine-learning-only education should understand that this paper is based on two non-machine-learning principles: it is rule-based rather than statistical and it is meaning-based rather than bag-ofwords-based. Nor should it be read as an attempt to project human collaboration into CHARMS—rather, it is a claim that both should be based on a solid computational semantic foundation.\n",
    "\n",
    "\n",
    "The differences between human intelligence and artificial/computer/robotic intelligences are seriously masked by our increasing abilities to emulate human behavior in the computer. When working with humans in a CHARMS team, will the robots and agents emulate humans? This is what all these preliminaries were about. But, first, let us make it clear how\n",
    "\n",
    "• human intelligence,\n",
    "\n",
    "• AI,\n",
    "\n",
    "• computer intelligence,\n",
    "\n",
    "• web intelligence,\n",
    "\n",
    "• agent intelligence, and our subject,\n",
    "\n",
    "• robotic intelligence, relate to each other:\n",
    "\n",
    "Human intelligence includes all mental activities underlying human lives. It prominently includes a full competence, sufficient for each individual lifestyle, in at least one native tongue. The general notion is that we have a pretty solid knowledge base about the world as well as the ability to perceive and respond to current developments in it. We can represent any of these in our native tongue and communicate it to native speakers, including ourselves. We can even communicate things that have never happened or can never happen because they are imaginary. It should be noted that language underdetermines reality, and there are many things that we can perceive only visually, such as, say, the map of Albania or a picture of a human face.\n",
    "Artificial intelligence (AI) emulates parts and aspects of human intelligence in computer applications, where the machine attempts to fulfill a human intellectual task. The somewhat simplistic view in early AI, with its largely exaggerated expectations and false hopes, was that if such an application is reasonably successful, we would then understand how human intelligence does it because we would, of course, have designed the computer algorithm ourselves. As the field was growing older—I don’t want to say, maturing—it became clear that the computer may employ other than human-like methods to achieve some plausible-looking results. Numerous and still growing efforts in machine learning certainly cannot claim the actual AI status because humans do not think statistically. These efforts are also not satisfactory in NLP applications because even their souped-up precision rate of 80% (really, around 60%) is significantly lower than the human user’s 95+% expectation of accuracy (make it a maximum 5% error tolerance). In other words, who wants a computer application that is wrong once out of every five occasions—or even twice?! In more objective terms, who can trust a system that tries to manipulate a text without any ability or desire to understand what the text is about?!\n",
    "\n",
    "Other than serving as research-clique markers, computer intelligence and web intelligence cover much overlapping generic territory and are marginal for us here. It is different than the last two bullets above, which are both firmly in CHARMS land. Both intelligent agents and robots are full-fledged participants of the HARMS hybrid teams, and the whole thrust of the CHARMS system is to maximize the autonomy and, hence, intelligence of the computational components. The fascinating difference that robotic intelligence adds is the cyberphysicality of the robots: they do exist in the physical space, which means having dimensions, being subject to time restrictions and abilities to move, etc. Moreover, the robotic intelligence may include the manipulation of physical sensors, such as distance to another object or ambient temperature.\"\"\""
   ]
  },
  {
   "cell_type": "code",
   "execution_count": 18,
   "metadata": {},
   "outputs": [
    {
     "name": "stdout",
     "output_type": "stream",
     "text": [
      "human-computer interaction has been happening since the first command was introduced into the computer . authors argue for the use of natural language, with understanding capabilities by non-humans in CHARMS . paper explores robotic intelligence as a particular kind of AI .\n"
     ]
    }
   ],
   "source": [
    "summary_text = summarizer(text, max_length=1000, min_length=5, do_sample=False)[0]['summary_text']\n",
    "print(summary_text)"
   ]
  },
  {
   "cell_type": "code",
   "execution_count": null,
   "metadata": {},
   "outputs": [],
   "source": []
  }
 ],
 "metadata": {
  "kernelspec": {
   "display_name": "Python 3",
   "language": "python",
   "name": "python3"
  },
  "language_info": {
   "codemirror_mode": {
    "name": "ipython",
    "version": 3
   },
   "file_extension": ".py",
   "mimetype": "text/x-python",
   "name": "python",
   "nbconvert_exporter": "python",
   "pygments_lexer": "ipython3",
   "version": "3.8.3"
  }
 },
 "nbformat": 4,
 "nbformat_minor": 4
}
